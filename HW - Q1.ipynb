{
 "cells": [
  {
   "cell_type": "markdown",
   "id": "incoming-convergence",
   "metadata": {},
   "source": [
    "## 1 The cliff problem (3 pts.)\n",
    "\n",
    "Consider the following problem. An agent must navigate the grid world represented in Fig. 1, where the\n",
    "grey area corresponds to a cliff that the agent must avoid. The goal state corresponds to the cell marked\n",
    "with a G, while the cell marked with an S corresponds to a starting state. At every step, the agent receives\n",
    "a reward of −1 except in the cliff region, where the reward is −100. Whenever the agent steps into a cliff\n",
    "state, its position is reset back to the start state. When the agent steps into the goal state, the episode ends.\n",
    "The agent has available four actions: up (U), down (D), left (L) and right (R), all of which move the agent\n",
    "deterministically in the corresponding direction.\n",
    "\n",
    "![image.info](./pictures/grid-world.png)\n",
    "\n",
    "In this question, you will compare the performance of SARSA and Q-learning on the cliff task. To do\n",
    "so, assume that the agent follows an ε-greedy policy, with ε = 0.15. Run both algorithms for 500 episodes, making sure that the Q-values for both methods are initialized to 0. Consider throughout that γ = 1 and use a step-size of α = 0.5.\n",
    "\n",
    "\n",
    "### Question 1. Compare:\n",
    "• The total reward in each episode for Q-learning and SARSA, plotting the two in a single plot.<br>\n",
    "• The resulting policy after the 500 episodes.<br><br>\n",
    "Comment any differences observed.<br><br>\n",
    "<b>Note<b>: To mitigate the effect of noise on the plot, perform multiple runs and average the result across\n",
    "runs."
   ]
  },
  {
   "cell_type": "markdown",
   "id": "informal-neutral",
   "metadata": {
    "ExecuteTime": {
     "end_time": "2021-11-12T11:48:01.269760Z",
     "start_time": "2021-11-12T11:48:01.230260Z"
    }
   },
   "source": [
    "## Sarsa pseudo code\n",
    "\n",
    "![image.info](./pictures/sarsa.png)"
   ]
  },
  {
   "cell_type": "markdown",
   "id": "surprising-simon",
   "metadata": {},
   "source": [
    "## Q-Learning pseudo code\n",
    "\n",
    "![image.info](./pictures/q-learning.png)"
   ]
  },
  {
   "cell_type": "code",
   "execution_count": 1,
   "id": "constant-reform",
   "metadata": {
    "ExecuteTime": {
     "end_time": "2021-11-24T20:57:21.434314Z",
     "start_time": "2021-11-24T20:57:19.741529Z"
    }
   },
   "outputs": [],
   "source": [
    "# Imports\n",
    "\n",
    "import numpy as np\n",
    "import pandas as pd\n",
    "import matplotlib.pyplot as plt\n",
    "import pandas as pd\n",
    "\n",
    "import tqdm"
   ]
  },
  {
   "cell_type": "code",
   "execution_count": 2,
   "id": "reasonable-ribbon",
   "metadata": {
    "ExecuteTime": {
     "end_time": "2021-11-24T20:57:38.094285Z",
     "start_time": "2021-11-24T20:57:37.758676Z"
    }
   },
   "outputs": [
    {
     "name": "stderr",
     "output_type": "stream",
     "text": [
      "<ipython-input-2-2d24bc06b699>:272: TqdmDeprecationWarning: Please use `tqdm.notebook.trange` instead of `tqdm.tnrange`\n",
      "  for episode in tqdm.tnrange(self.episodes):\n"
     ]
    },
    {
     "data": {
      "application/vnd.jupyter.widget-view+json": {
       "model_id": "86734512a88d4938a2d088e24a9aa0b3",
       "version_major": 2,
       "version_minor": 0
      },
      "text/plain": [
       "  0%|          | 0/500 [00:00<?, ?it/s]"
      ]
     },
     "metadata": {},
     "output_type": "display_data"
    }
   ],
   "source": [
    "# Sarsa Implementation\n",
    "\n",
    "class Cliff(object):\n",
    "    \n",
    "    def __init__(self, algorithm='sarsa', episodes=500, gamma=1.0, nrows=4, ncols=11, epsilon=0.15, alpha=0.5):\n",
    "        \n",
    "        if (ncols < 3) | (nrows < 2):\n",
    "            print('Input at least two rows and three columns')\n",
    "            return\n",
    "        \n",
    "        # Action space: A = {up, down, left, right}\n",
    "        self.actions = [0, 1, 2, 3]\n",
    "        \n",
    "        # Algorithm to use\n",
    "        self.algorithm = algorithm\n",
    "        \n",
    "        # Space size\n",
    "        self.nrows = nrows\n",
    "        self.ncols = ncols\n",
    "\n",
    "        # Grid space - available states: S = {4*11 matrix}\n",
    "        self.states = np.zeros((nrows, ncols))\n",
    "        \n",
    "        # Current state, initial state (nrows-1, 0)\n",
    "        self.current_row = None\n",
    "        self.current_col = None\n",
    "        \n",
    "        # Goal state\n",
    "        self.goal_row = nrows-1\n",
    "        self.goal_col = ncols-1\n",
    "        \n",
    "        # Number of episodes\n",
    "        self.episodes = episodes\n",
    "        \n",
    "        # Q values\n",
    "        self.q_up = None\n",
    "        self.q_down = None\n",
    "        self.q_left = None\n",
    "        self.q_right = None\n",
    "        \n",
    "        # Rewards: -1 for every action, except for cliff, where it is -100\n",
    "        self.rewards = np.zeros((nrows, ncols)) - 1\n",
    "        self.rewards[nrows-1, 1:ncols-1] = -100 \n",
    "        # self.rewards[nrows-1, ncols-1] = 0\n",
    "\n",
    "        # Discount factor gamma\n",
    "        self.gamma = float(gamma)\n",
    "        \n",
    "        # Epsilon value for epsilon-greedy policy exploration\n",
    "        self.epsilon = float(epsilon)\n",
    "        \n",
    "        # Step size alpha for incremental value approximation\n",
    "        self.alpha = float(alpha)\n",
    "        \n",
    "        # Optimal policy\n",
    "        self.policy = None\n",
    "        \n",
    "        # Formated policy\n",
    "        self.fpolicy = None\n",
    "        \n",
    "        # Get the reward history\n",
    "        self.episode_rewards = []\n",
    "        self.accumulated_rewards = []\n",
    "        \n",
    "        # Timestep history\n",
    "        self.history = []\n",
    "        \n",
    "        #print(self.states)\n",
    "        #print(self.rewards)\n",
    "        #print(self.q_up)\n",
    "        \n",
    "        return\n",
    "    \n",
    "    def initialize_agent(self):\n",
    "        self.current_row = self.nrows-1\n",
    "        self.current_col = 0\n",
    "    \n",
    "    def initialize_q(self):\n",
    "        # Q-values: arbitrarily set, but for this homework will be set to 0\n",
    "        self.q_up = np.zeros((self.nrows, self.ncols))\n",
    "        self.q_up[self.nrows-1, self.ncols-1] = 0\n",
    "        \n",
    "        self.q_down = np.zeros((self.nrows, self.ncols))\n",
    "        self.q_down[self.nrows-1, self.ncols-1] = 0\n",
    "        \n",
    "        self.q_left = np.zeros((self.nrows, self.ncols))\n",
    "        self.q_left[self.nrows-1, self.ncols-1] = 0\n",
    "        \n",
    "        self.q_right = np.zeros((self.nrows, self.ncols))\n",
    "        self.q_right[self.nrows-1, self.ncols-1] = 0\n",
    "        \n",
    "        return\n",
    "        \n",
    "        \n",
    "    def epsilon_greedy(self, state_row, state_col):\n",
    "        next_action = None\n",
    "        if np.random.random() < self.epsilon:\n",
    "            next_action = np.random.randint(4)\n",
    "        else:\n",
    "            next_action = np.argmax([self.q_up[state_row, state_col],\n",
    "                                     self.q_down[state_row, state_col],\n",
    "                                     self.q_left[state_row, state_col],\n",
    "                                     self.q_right[state_row, state_col]])\n",
    "        return next_action\n",
    "    \n",
    "            \n",
    "    def go_up(self, state_row, state_col):\n",
    "        if self.current_row - 1 >= 0:\n",
    "            return self.current_row - 1, self.current_col\n",
    "        return self.current_row, self.current_col\n",
    "\n",
    "\n",
    "    def go_down(self, state_row, state_col):\n",
    "        if self.current_row + 1 < self.nrows:\n",
    "            return self.current_row + 1, self.current_col\n",
    "        return self.current_row, self.current_col\n",
    "\n",
    "\n",
    "    def go_left(self, state_row, state_col):\n",
    "        if self.current_col - 1 >= 0:\n",
    "            return self.current_row, self.current_col - 1\n",
    "        return self.current_row, self.current_col\n",
    "\n",
    "    def go_right(self, state_row, state_col):\n",
    "        if self.current_col + 1 < self.ncols:\n",
    "            return self.current_row, self.current_col + 1\n",
    "        return self.current_row, self.current_col\n",
    "\n",
    "\n",
    "    def do_action(self, action, state_row, state_col):\n",
    "        if action == 0:\n",
    "            return self.go_up(state_row, state_col)\n",
    "        elif action == 1:\n",
    "            return self.go_down(state_row, state_col)\n",
    "        elif action == 2:\n",
    "            return self.go_left(state_row, state_col)\n",
    "        elif action == 3:\n",
    "            return self.go_right(state_row, state_col)\n",
    "        return\n",
    "    \n",
    "    \n",
    "    def get_q(self, action, current_row, current_col):\n",
    "        if action == 0:\n",
    "            return self.q_up[current_row, current_col]\n",
    "        elif action == 1:\n",
    "            return self.q_down[current_row, current_col]\n",
    "        elif action == 2:\n",
    "            return self.q_left[current_row, current_col]\n",
    "        elif action == 3:\n",
    "            return self.q_right[current_row, current_col]\n",
    "        \n",
    "        \n",
    "    def set_q(self, action, current_row, current_col, value):\n",
    "        if action == 0:\n",
    "            self.q_up[current_row, current_col] = value\n",
    "        elif action == 1:\n",
    "            self.q_down[current_row, current_col] = value\n",
    "        elif action == 2:\n",
    "            self.q_left[current_row, current_col] = value\n",
    "        elif action == 3:\n",
    "            self.q_right[current_row, current_col] = value\n",
    "        return\n",
    "    \n",
    "    \n",
    "    def get_policy(self):\n",
    "        max_q = np.zeros((self.nrows, self.ncols))\n",
    "        for row in np.arange(self.nrows):\n",
    "            for col in np.arange(self.ncols):\n",
    "                max_q[row, col] = np.argmax([self.q_up[row, col],\n",
    "                                             self.q_down[row, col],\n",
    "                                             self.q_left[row, col],\n",
    "                                             self.q_right[row, col]])\n",
    "        return max_q\n",
    "    \n",
    "    \n",
    "    def format_policy(self):\n",
    "        if self.policy is not None:\n",
    "        \n",
    "            # Get the unicode codes for arrows for a nicer representation\n",
    "            arrow_dictionary = {'0': '\\u21E1',\n",
    "                                '1': '\\u21E3',\n",
    "                                '2': '\\u21E0',\n",
    "                                '3': '\\u21E2'}\n",
    "            \n",
    "            table_arrow = []\n",
    "            for row in np.arange(self.nrows):\n",
    "                temp_row = []\n",
    "                for col in np.arange(self.ncols):\n",
    "                    temp_row.append(arrow_dictionary[str(int(self.policy[row, col]))])\n",
    "                table_arrow.append(temp_row)\n",
    "\n",
    "            #table_arrow = np.zeros((self.nrows, self.ncols))\n",
    "            #for row in np.arange(self.nrows):\n",
    "            #    for col in np.arange(self.ncols):\n",
    "            #        table_arrow[row, col] = arrow_dictionary[str(int(self.policy[row, col]))]\n",
    "            \n",
    "            self.fpolicy = pd.DataFrame(table_arrow, \n",
    "                                        columns=np.arange(self.ncols),\n",
    "                                        index=np.arange(self.nrows))\n",
    "        return\n",
    "            \n",
    "            \n",
    "    def sarsa_iteration(self):\n",
    "        \n",
    "        # Initialize the Q values\n",
    "        self.initialize_q()\n",
    "        \n",
    "        # Go through each episode:\n",
    "        for episode in tqdm.tnrange(self.episodes):\n",
    "            \n",
    "            # State initialization\n",
    "            self.initialize_agent()\n",
    "            \n",
    "            # Choose action with epsilon-greedy (initial action)\n",
    "            action = self.epsilon_greedy(self.current_row, self.current_col)\n",
    "            \n",
    "            episode_timestep = 0\n",
    "            episode_total_reward = 0\n",
    "            episode_rewards = []\n",
    "            \n",
    "            # For each step of the episode\n",
    "            while True:                  \n",
    "                #print(self.current_row, self.current_col)\n",
    "                #print(action)\n",
    "                    \n",
    "                # Get new state S\n",
    "                new_row, new_col = self.do_action(action, self.current_row, self.current_col)\n",
    "                \n",
    "                # Immediate reward R\n",
    "                new_reward = self.rewards[new_row, new_col]\n",
    "                \n",
    "                # Get new action\n",
    "                new_action = self.epsilon_greedy(new_row, new_col)\n",
    "                \n",
    "                # Current Q\n",
    "                current_q = self.get_q(action, self.current_row, self.current_col)\n",
    "                \n",
    "                # Q'\n",
    "                new_q = self.get_q(new_action, new_row, new_col)\n",
    "                #print('Q: {}'.format(new_q))\n",
    "                \n",
    "                # Update Q value\n",
    "                temp_q = current_q + self.alpha*(new_reward + self.gamma*new_q - current_q)\n",
    "                \n",
    "                # Set the new Q value for this action\n",
    "                self.set_q(action, self.current_row, self.current_col, temp_q)\n",
    "                \n",
    "                # Update action and state values\n",
    "                self.current_row, self.current_col = self.do_action(action, self.current_row, self.current_col)\n",
    "                action = new_action\n",
    "                \n",
    "                episode_timestep += 1\n",
    "                episode_total_reward += new_reward\n",
    "                episode_rewards.append(new_reward)\n",
    "                \n",
    "                if (self.current_row == self.goal_row) & (self.current_col == self.goal_col):\n",
    "                    break\n",
    "            \n",
    "            self.history.append(episode_timestep)\n",
    "            self.accumulated_rewards.append(episode_total_reward)\n",
    "            self.episode_rewards.append(episode_rewards)\n",
    "            \n",
    "        return\n",
    "    \n",
    "    \n",
    "    def qlearning_iteration(self):\n",
    "        \n",
    "        # Initialize the Q values\n",
    "        self.initialize_q()\n",
    "        \n",
    "        # Go through each episode:\n",
    "        for episode in tqdm.tnrange(self.episodes):\n",
    "            \n",
    "            # State initialization\n",
    "            self.initialize_agent()\n",
    "            \n",
    "            # Placeholder for action\n",
    "            action = None\n",
    "            \n",
    "            episode_timestep = 0\n",
    "            episode_total_reward = 0\n",
    "            episode_rewards = []\n",
    "            \n",
    "            # For each step of the episode\n",
    "            while True: \n",
    "                \n",
    "                # Choose action with epsilon-greedy\n",
    "                action = self.epsilon_greedy(self.current_row, self.current_col)\n",
    "                \n",
    "                # Get new state S\n",
    "                new_row, new_col = self.do_action(action, self.current_row, self.current_col)\n",
    "                \n",
    "                # Immediate reward R\n",
    "                new_reward = self.rewards[new_row, new_col]\n",
    "                \n",
    "                # Current Q\n",
    "                current_q = self.get_q(action, self.current_row, self.current_col)\n",
    "                \n",
    "                # Q(S', a)\n",
    "                q_alternative = np.max([self.get_q(a, new_row, new_col) for a in self.actions])\n",
    "                \n",
    "                # Q'\n",
    "                temp_q = current_q + self.alpha*(new_reward + self.gamma*q_alternative - current_q)\n",
    "                \n",
    "                # Set the new Q value\n",
    "                self.set_q(action, self.current_row, self.current_col, temp_q)\n",
    "                \n",
    "                # Update action and state values\n",
    "                self.current_row, self.current_col = self.do_action(action, self.current_row, self.current_col)\n",
    "                \n",
    "                episode_timestep += 1\n",
    "                episode_total_reward += new_reward\n",
    "                episode_rewards.append(new_reward)\n",
    "                \n",
    "                if (self.current_row == self.goal_row) & (self.current_col == self.goal_col):\n",
    "                    break\n",
    "            \n",
    "            self.history.append(episode_timestep)\n",
    "            self.accumulated_rewards.append(episode_total_reward)\n",
    "            self.episode_rewards.append(episode_rewards)\n",
    "            \n",
    "        return\n",
    "    \n",
    "    \n",
    "    def do_iteration(self):\n",
    "        if self.algorithm == 'sarsa':\n",
    "            self.sarsa_iteration()\n",
    "        elif self.algorithm == 'q-learning':\n",
    "            self.qlearning_iteration()\n",
    "        else:\n",
    "            return\n",
    "        self.policy = self.get_policy()\n",
    "        \n",
    "    \n",
    "test_cliff = Cliff(algorithm='q-learning', nrows=4, ncols=11, gamma=1.0, alpha=0.5)\n",
    "test_cliff.do_iteration()"
   ]
  },
  {
   "cell_type": "code",
   "execution_count": 14,
   "id": "detailed-lloyd",
   "metadata": {
    "ExecuteTime": {
     "end_time": "2021-11-15T18:13:54.507951Z",
     "start_time": "2021-11-15T18:13:54.333999Z"
    }
   },
   "outputs": [
    {
     "data": {
      "text/plain": [
       "[<matplotlib.lines.Line2D at 0x22731502ac0>]"
      ]
     },
     "execution_count": 14,
     "metadata": {},
     "output_type": "execute_result"
    },
    {
     "data": {
      "image/png": "[encoded data removed]",
      "text/plain": [
       "<Figure size 432x288 with 1 Axes>"
      ]
     },
     "metadata": {
      "needs_background": "light"
     },
     "output_type": "display_data"
    }
   ],
   "source": [
    "# Print the total reward for each episode (Q-Learning)\n",
    "\n",
    "plt.plot(test_cliff.accumulated_rewards)"
   ]
  },
  {
   "cell_type": "code",
   "execution_count": 15,
   "id": "respected-ozone",
   "metadata": {
    "ExecuteTime": {
     "end_time": "2021-11-15T18:14:00.974223Z",
     "start_time": "2021-11-15T18:14:00.945268Z"
    }
   },
   "outputs": [
    {
     "data": {
      "text/html": [
       "<div>\n",
       "<style scoped>\n",
       "    .dataframe tbody tr th:only-of-type {\n",
       "        vertical-align: middle;\n",
       "    }\n",
       "\n",
       "    .dataframe tbody tr th {\n",
       "        vertical-align: top;\n",
       "    }\n",
       "\n",
       "    .dataframe thead th {\n",
       "        text-align: right;\n",
       "    }\n",
       "</style>\n",
       "<table border=\"1\" class=\"dataframe\">\n",
       "  <thead>\n",
       "    <tr style=\"text-align: right;\">\n",
       "      <th></th>\n",
       "      <th>0</th>\n",
       "      <th>1</th>\n",
       "      <th>2</th>\n",
       "      <th>3</th>\n",
       "      <th>4</th>\n",
       "      <th>5</th>\n",
       "      <th>6</th>\n",
       "      <th>7</th>\n",
       "      <th>8</th>\n",
       "      <th>9</th>\n",
       "      <th>10</th>\n",
       "    </tr>\n",
       "  </thead>\n",
       "  <tbody>\n",
       "    <tr>\n",
       "      <th>0</th>\n",
       "      <td>⇢</td>\n",
       "      <td>⇡</td>\n",
       "      <td>⇢</td>\n",
       "      <td>⇡</td>\n",
       "      <td>⇢</td>\n",
       "      <td>⇣</td>\n",
       "      <td>⇢</td>\n",
       "      <td>⇢</td>\n",
       "      <td>⇣</td>\n",
       "      <td>⇢</td>\n",
       "      <td>⇣</td>\n",
       "    </tr>\n",
       "    <tr>\n",
       "      <th>1</th>\n",
       "      <td>⇣</td>\n",
       "      <td>⇣</td>\n",
       "      <td>⇢</td>\n",
       "      <td>⇣</td>\n",
       "      <td>⇣</td>\n",
       "      <td>⇣</td>\n",
       "      <td>⇢</td>\n",
       "      <td>⇣</td>\n",
       "      <td>⇣</td>\n",
       "      <td>⇣</td>\n",
       "      <td>⇣</td>\n",
       "    </tr>\n",
       "    <tr>\n",
       "      <th>2</th>\n",
       "      <td>⇢</td>\n",
       "      <td>⇢</td>\n",
       "      <td>⇢</td>\n",
       "      <td>⇢</td>\n",
       "      <td>⇢</td>\n",
       "      <td>⇢</td>\n",
       "      <td>⇢</td>\n",
       "      <td>⇢</td>\n",
       "      <td>⇢</td>\n",
       "      <td>⇢</td>\n",
       "      <td>⇣</td>\n",
       "    </tr>\n",
       "    <tr>\n",
       "      <th>3</th>\n",
       "      <td>⇡</td>\n",
       "      <td>⇡</td>\n",
       "      <td>⇡</td>\n",
       "      <td>⇡</td>\n",
       "      <td>⇡</td>\n",
       "      <td>⇡</td>\n",
       "      <td>⇡</td>\n",
       "      <td>⇡</td>\n",
       "      <td>⇡</td>\n",
       "      <td>⇢</td>\n",
       "      <td>⇡</td>\n",
       "    </tr>\n",
       "  </tbody>\n",
       "</table>\n",
       "</div>"
      ],
      "text/plain": [
       "  0  1  2  3  4  5  6  7  8  9  10\n",
       "0  ⇢  ⇡  ⇢  ⇡  ⇢  ⇣  ⇢  ⇢  ⇣  ⇢  ⇣\n",
       "1  ⇣  ⇣  ⇢  ⇣  ⇣  ⇣  ⇢  ⇣  ⇣  ⇣  ⇣\n",
       "2  ⇢  ⇢  ⇢  ⇢  ⇢  ⇢  ⇢  ⇢  ⇢  ⇢  ⇣\n",
       "3  ⇡  ⇡  ⇡  ⇡  ⇡  ⇡  ⇡  ⇡  ⇡  ⇢  ⇡"
      ]
     },
     "execution_count": 15,
     "metadata": {},
     "output_type": "execute_result"
    }
   ],
   "source": [
    "# Get the policy obtained (Q-Learning)\n",
    "\n",
    "test_cliff.format_policy()\n",
    "test_cliff.fpolicy"
   ]
  },
  {
   "cell_type": "code",
   "execution_count": 16,
   "id": "reverse-consideration",
   "metadata": {
    "ExecuteTime": {
     "end_time": "2021-11-15T18:18:06.117244Z",
     "start_time": "2021-11-15T18:18:05.935727Z"
    }
   },
   "outputs": [
    {
     "name": "stderr",
     "output_type": "stream",
     "text": [
      "<ipython-input-12-2d24bc06b699>:209: TqdmDeprecationWarning: Please use `tqdm.notebook.trange` instead of `tqdm.tnrange`\n",
      "  for episode in tqdm.tnrange(self.episodes):\n"
     ]
    },
    {
     "data": {
      "application/vnd.jupyter.widget-view+json": {
       "model_id": "2f6403ec0f7a4eacbe8a41b770f4831d",
       "version_major": 2,
       "version_minor": 0
      },
      "text/plain": [
       "  0%|          | 0/500 [00:00<?, ?it/s]"
      ]
     },
     "metadata": {},
     "output_type": "display_data"
    }
   ],
   "source": [
    "# SARSA algorithm\n",
    "\n",
    "sarsa_cliff = Cliff(algorithm='sarsa', nrows=4, ncols=11, gamma=1.0, alpha=0.5)\n",
    "sarsa_cliff.do_iteration()"
   ]
  },
  {
   "cell_type": "code",
   "execution_count": 17,
   "id": "direct-temperature",
   "metadata": {
    "ExecuteTime": {
     "end_time": "2021-11-15T18:18:16.426605Z",
     "start_time": "2021-11-15T18:18:16.307082Z"
    }
   },
   "outputs": [
    {
     "data": {
      "text/plain": [
       "[<matplotlib.lines.Line2D at 0x22730d74af0>]"
      ]
     },
     "execution_count": 17,
     "metadata": {},
     "output_type": "execute_result"
    },
    {
     "data": {
      "image/png": "[encoded data removed]",
      "text/plain": [
       "<Figure size 432x288 with 1 Axes>"
      ]
     },
     "metadata": {
      "needs_background": "light"
     },
     "output_type": "display_data"
    }
   ],
   "source": [
    "# Print the total reward for each episode (Sarsa)\n",
    "\n",
    "plt.plot(sarsa_cliff.accumulated_rewards)"
   ]
  },
  {
   "cell_type": "code",
   "execution_count": 18,
   "id": "bigger-shade",
   "metadata": {
    "ExecuteTime": {
     "end_time": "2021-11-15T18:18:36.423108Z",
     "start_time": "2021-11-15T18:18:36.404159Z"
    }
   },
   "outputs": [
    {
     "data": {
      "text/html": [
       "<div>\n",
       "<style scoped>\n",
       "    .dataframe tbody tr th:only-of-type {\n",
       "        vertical-align: middle;\n",
       "    }\n",
       "\n",
       "    .dataframe tbody tr th {\n",
       "        vertical-align: top;\n",
       "    }\n",
       "\n",
       "    .dataframe thead th {\n",
       "        text-align: right;\n",
       "    }\n",
       "</style>\n",
       "<table border=\"1\" class=\"dataframe\">\n",
       "  <thead>\n",
       "    <tr style=\"text-align: right;\">\n",
       "      <th></th>\n",
       "      <th>0</th>\n",
       "      <th>1</th>\n",
       "      <th>2</th>\n",
       "      <th>3</th>\n",
       "      <th>4</th>\n",
       "      <th>5</th>\n",
       "      <th>6</th>\n",
       "      <th>7</th>\n",
       "      <th>8</th>\n",
       "      <th>9</th>\n",
       "      <th>10</th>\n",
       "    </tr>\n",
       "  </thead>\n",
       "  <tbody>\n",
       "    <tr>\n",
       "      <th>0</th>\n",
       "      <td>⇢</td>\n",
       "      <td>⇢</td>\n",
       "      <td>⇢</td>\n",
       "      <td>⇢</td>\n",
       "      <td>⇢</td>\n",
       "      <td>⇢</td>\n",
       "      <td>⇢</td>\n",
       "      <td>⇢</td>\n",
       "      <td>⇢</td>\n",
       "      <td>⇢</td>\n",
       "      <td>⇣</td>\n",
       "    </tr>\n",
       "    <tr>\n",
       "      <th>1</th>\n",
       "      <td>⇡</td>\n",
       "      <td>⇠</td>\n",
       "      <td>⇢</td>\n",
       "      <td>⇡</td>\n",
       "      <td>⇢</td>\n",
       "      <td>⇡</td>\n",
       "      <td>⇢</td>\n",
       "      <td>⇡</td>\n",
       "      <td>⇡</td>\n",
       "      <td>⇢</td>\n",
       "      <td>⇣</td>\n",
       "    </tr>\n",
       "    <tr>\n",
       "      <th>2</th>\n",
       "      <td>⇡</td>\n",
       "      <td>⇡</td>\n",
       "      <td>⇡</td>\n",
       "      <td>⇡</td>\n",
       "      <td>⇡</td>\n",
       "      <td>⇢</td>\n",
       "      <td>⇡</td>\n",
       "      <td>⇢</td>\n",
       "      <td>⇡</td>\n",
       "      <td>⇢</td>\n",
       "      <td>⇣</td>\n",
       "    </tr>\n",
       "    <tr>\n",
       "      <th>3</th>\n",
       "      <td>⇡</td>\n",
       "      <td>⇠</td>\n",
       "      <td>⇡</td>\n",
       "      <td>⇡</td>\n",
       "      <td>⇡</td>\n",
       "      <td>⇡</td>\n",
       "      <td>⇡</td>\n",
       "      <td>⇡</td>\n",
       "      <td>⇡</td>\n",
       "      <td>⇢</td>\n",
       "      <td>⇡</td>\n",
       "    </tr>\n",
       "  </tbody>\n",
       "</table>\n",
       "</div>"
      ],
      "text/plain": [
       "  0  1  2  3  4  5  6  7  8  9  10\n",
       "0  ⇢  ⇢  ⇢  ⇢  ⇢  ⇢  ⇢  ⇢  ⇢  ⇢  ⇣\n",
       "1  ⇡  ⇠  ⇢  ⇡  ⇢  ⇡  ⇢  ⇡  ⇡  ⇢  ⇣\n",
       "2  ⇡  ⇡  ⇡  ⇡  ⇡  ⇢  ⇡  ⇢  ⇡  ⇢  ⇣\n",
       "3  ⇡  ⇠  ⇡  ⇡  ⇡  ⇡  ⇡  ⇡  ⇡  ⇢  ⇡"
      ]
     },
     "execution_count": 18,
     "metadata": {},
     "output_type": "execute_result"
    }
   ],
   "source": [
    "# Get the policy obtained (Sarsa)\n",
    "\n",
    "sarsa_cliff.format_policy()\n",
    "sarsa_cliff.fpolicy"
   ]
  },
  {
   "cell_type": "code",
   "execution_count": null,
   "id": "decimal-roots",
   "metadata": {
    "ExecuteTime": {
     "end_time": "2021-11-24T21:12:35.330030Z",
     "start_time": "2021-11-24T20:58:59.693542Z"
    }
   },
   "outputs": [],
   "source": [
    "# Setup multiple runs\n",
    "\n",
    "N_RUNS = 2000\n",
    "\n",
    "dict_qlearning = {}\n",
    "dict_sarsa = {}\n",
    "\n",
    "for i in tqdm.tnrange(N_RUNS):\n",
    "    temp_qlearning = Cliff(algorithm='q-learning')\n",
    "    temp_qlearning.do_iteration()\n",
    "    \n",
    "    dict_qlearning['Run {:0004d}'.format(i)] = temp_qlearning\n",
    "    \n",
    "    temp_sarsa = Cliff(algorithm='sarsa')\n",
    "    temp_sarsa.do_iteration()\n",
    "    \n",
    "    dict_sarsa['Run {:0004d}'.format(i)] = temp_sarsa"
   ]
  },
  {
   "cell_type": "code",
   "execution_count": 22,
   "id": "velvet-services",
   "metadata": {
    "ExecuteTime": {
     "end_time": "2021-11-24T21:19:22.330821Z",
     "start_time": "2021-11-24T21:19:21.936573Z"
    }
   },
   "outputs": [
    {
     "data": {
      "image/png": "[encoded data removed]",
      "text/plain": [
       "<Figure size 864x576 with 1 Axes>"
      ]
     },
     "metadata": {
      "needs_background": "light"
     },
     "output_type": "display_data"
    }
   ],
   "source": [
    "# Get the results of each run\n",
    "\n",
    "rewards_qlearning = []\n",
    "rewards_sarsa = []\n",
    "\n",
    "for i in dict_qlearning.keys():\n",
    "    rewards_qlearning.append(dict_qlearning[i].accumulated_rewards)\n",
    "    rewards_sarsa.append(dict_sarsa[i].accumulated_rewards)\n",
    "    \n",
    "fig = plt.figure(figsize=(12, 8))\n",
    "    \n",
    "plt.plot(np.mean(rewards_qlearning, axis=0), '--o')\n",
    "plt.plot(np.mean(rewards_sarsa, axis=0), '--x')\n",
    "\n",
    "plt.legend(['Q-Learning', 'Sarsa'])\n",
    "plt.title('Average Episodic reward of Q-Learning and Sarsa')\n",
    "plt.show()"
   ]
  },
  {
   "cell_type": "code",
   "execution_count": null,
   "id": "rising-hardware",
   "metadata": {},
   "outputs": [],
   "source": []
  }
 ],
 "metadata": {
  "kernelspec": {
   "display_name": "Python 3",
   "language": "python",
   "name": "python3"
  },
  "language_info": {
   "codemirror_mode": {
    "name": "ipython",
    "version": 3
   },
   "file_extension": ".py",
   "mimetype": "text/x-python",
   "name": "python",
   "nbconvert_exporter": "python",
   "pygments_lexer": "ipython3",
   "version": "3.8.8"
  },
  "varInspector": {
   "cols": {
    "lenName": 16,
    "lenType": 16,
    "lenVar": 40
   },
   "kernels_config": {
    "python": {
     "delete_cmd_postfix": "",
     "delete_cmd_prefix": "del ",
     "library": "var_list.py",
     "varRefreshCmd": "print(var_dic_list())"
    },
    "r": {
     "delete_cmd_postfix": ") ",
     "delete_cmd_prefix": "rm(",
     "library": "var_list.r",
     "varRefreshCmd": "cat(var_dic_list()) "
    }
   },
   "types_to_exclude": [
    "module",
    "function",
    "builtin_function_or_method",
    "instance",
    "_Feature"
   ],
   "window_display": false
  }
 },
 "nbformat": 4,
 "nbformat_minor": 5
}
