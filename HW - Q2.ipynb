{
 "cells": [
  {
   "cell_type": "markdown",
   "id": "racial-university",
   "metadata": {},
   "source": [
    "# 2 TD learning with function approximation (3 pts.)\n",
    "Consider the MDP (S, A, p, r, γ), where  \n",
    "&emsp;&emsp;• S = {1, 2, 3, 4, 5, 6, 7} is the state space;  \n",
    "&emsp;&emsp;• A = {A, B} is the action space;  \n",
    "&emsp;&emsp;• The transition probabilities are summarized in the matrices  \n",
    "\n",
    "![image.info](./pictures/p-matrices.png)\n",
    "\n",
    "&emsp;&emsp;• r(s, a) = 0 for all pairs (s, a) ∈ S × A.  \n",
    "&emsp;&emsp;• γ = 0.99\n",
    "\n",
    "The q-function computed by the two algorithms should be:\n",
    "&emsp;&emsp;qw(x, a) = sum(k=1, 15)(φk(x, a)wk"
   ]
  },
  {
   "cell_type": "code",
   "execution_count": 1,
   "id": "hollywood-negotiation",
   "metadata": {
    "ExecuteTime": {
     "end_time": "2021-11-22T16:14:03.986314Z",
     "start_time": "2021-11-22T16:14:03.061702Z"
    }
   },
   "outputs": [],
   "source": [
    "# Imports\n",
    "\n",
    "import numpy as np\n",
    "import matplotlib.pyplot as plt\n",
    "import pandas as pd\n",
    "\n",
    "from fractions import Fraction\n",
    "\n",
    "import tqdm"
   ]
  },
  {
   "cell_type": "code",
   "execution_count": 35,
   "id": "aggregate-medicine",
   "metadata": {
    "ExecuteTime": {
     "end_time": "2021-11-22T16:57:25.292238Z",
     "start_time": "2021-11-22T16:57:25.267232Z"
    }
   },
   "outputs": [],
   "source": [
    "# TD learning with function approximation\n",
    "\n",
    "class TDLearning(object):\n",
    "    \n",
    "    def __init__(self, algorithm='q-learning', steps=500, alpha=0.01, gamma=0.99):\n",
    "        \n",
    "        # States are [1, 2, 3, 4, 5, 6, 7]\n",
    "        self.state_space = np.arange(1, 8)\n",
    "        \n",
    "        # Initial state\n",
    "        self.current_state = 1\n",
    "        \n",
    "        # Action space is [A, B]\n",
    "        self.action_space = ['A', 'B']\n",
    "        \n",
    "        # Probability matrix A\n",
    "        self.p_a = np.zeros((7, 7))\n",
    "        self.p_a[:, 6] = 1\n",
    "        \n",
    "        # Probability matrix B\n",
    "        self.p_b = np.zeros((7, 7))\n",
    "        self.p_b[:, :6] = Fraction(1, 6)\n",
    "        self.p_b[:, 6] = 0\n",
    "        \n",
    "        # Reward values are 0 for all action pairs (s, a)\n",
    "        self.reward = 0\n",
    "        \n",
    "        # Initialize number of timesteps, step-size and discount factor\n",
    "        self.steps = steps\n",
    "        self.alpha = alpha\n",
    "        self.gamma = gamma\n",
    "        \n",
    "        # Initialize feature vector A - rows: states, columns: features\n",
    "        self.f_a = np.zeros((7, 15))\n",
    "        for i in np.arange(7):\n",
    "            self.f_a[i, i] = 2\n",
    "        self.f_a[6, 6] = 1\n",
    "        self.f_a[:, 7] = 2\n",
    "        self.f_a[6, 7] = 1\n",
    "        \n",
    "        # Initialize feature vector B\n",
    "        self.f_b = np.zeros((7, 15))\n",
    "        for i in np.arange(7):\n",
    "            self.f_b[i, i + 8] = 1\n",
    "        \n",
    "        # Initialize weights\n",
    "        self.weights = np.zeros((15, 1)) + 1\n",
    "        self.weights[6] = 10\n",
    "        \n",
    "        # Probability of taking actions\n",
    "        self.use_a = Fraction(1, 7)\n",
    "        self.use_b = Fraction(6, 7)\n",
    "        \n",
    "        # Algorithm to use\n",
    "        self.algorithm = algorithm\n",
    "        \n",
    "        # History\n",
    "        self.history = [self.weights]\n",
    "        self.history_n = []\n",
    "        \n",
    "        \n",
    "    # Policy to follow - translation of p_a and p_b into conditions\n",
    "    def use_policy(self, state):\n",
    "        if np.random.rand() < self.use_a:\n",
    "            return 7, 0\n",
    "        else:\n",
    "            if state < 7:\n",
    "                return np.random.randint(1, 7), 1\n",
    "            else:\n",
    "                return 7, 1\n",
    "            \n",
    "    \n",
    "    def calculate_q(self, state, action):\n",
    "        if action == 0:\n",
    "            temp_q = [self.f_a[state-1, i] * self.weights[i][0] for i in np.arange(15)]\n",
    "            return np.sum(temp_q)\n",
    "        elif action == 1:\n",
    "            temp_q = [self.f_b[state-1, i] * self.weights[i][0] for i in np.arange(15)]\n",
    "            return np.sum(temp_q)\n",
    "        else:\n",
    "            return\n",
    "        \n",
    "        \n",
    "    def get_features(self, state, action):\n",
    "        if action == 0:\n",
    "            return self.f_a[state-1, :]\n",
    "        elif action == 1:\n",
    "            return self.f_b[state-1, :]\n",
    "        return\n",
    "    \n",
    "    \n",
    "    def get_norm(self, vector):\n",
    "        return np.sqrt(np.sum(i**2 for i in vector))\n",
    "    \n",
    "    \n",
    "    # Q-Learning iteration loop\n",
    "    def qlearning_iteration(self):\n",
    "        \n",
    "        # Run through N episodes\n",
    "        for i in np.arange(self.steps):\n",
    "            \n",
    "            # Choose action using policy\n",
    "            next_state, action = self.use_policy(self.current_state)\n",
    "            \n",
    "            # Get current Q values\n",
    "            current_q = self.calculate_q(self.current_state, action)\n",
    "            \n",
    "            # Get the Q values at next step\n",
    "            q_alternative = np.max([self.calculate_q(next_state, i) for i in np.arange(2)])\n",
    "            \n",
    "            # Immediate reward R\n",
    "            new_reward = 0\n",
    "            \n",
    "            # TD-target\n",
    "            temp_target = new_reward + self.gamma*q_alternative - current_q\n",
    "            #print(self.alpha * temp_target * self.get_features(self.current_state, action))\n",
    "            \n",
    "            # Weight update\n",
    "            weight_update = self.alpha * temp_target * self.get_features(self.current_state, action)\n",
    "            weight_update = np.reshape(weight_update, (15, 1))\n",
    "            \n",
    "            # Assign the weights\n",
    "            temp_weights = self.weights + weight_update\n",
    "            self.weights = temp_weights\n",
    "            \n",
    "            # Do the action and take next one\n",
    "            self.current_state = next_state\n",
    "            \n",
    "            self.history.append(self.weights)\n",
    "            self.history_n.append(self.get_norm(self.weights)[0])\n",
    "            \n",
    "        #print(self.weights)\n",
    "        \n",
    "        \n",
    "    def sarsa_iteration(self):\n",
    "        \n",
    "        for i in np.arange(self.steps):\n",
    "            \n",
    "            # Get new state S\n",
    "            next_state, action = self.use_policy(self.current_state)\n",
    "                \n",
    "            # Immediate reward R is 0\n",
    "            new_reward = 0\n",
    "                \n",
    "            # Get current Q values\n",
    "            current_q = self.calculate_q(self.current_state, action)\n",
    "            \n",
    "            # Get the next action A'\n",
    "            temp_state, temp_action = self.use_policy(next_state)\n",
    "            \n",
    "            # Get the Q' values\n",
    "            q_alternative = self.calculate_q(next_state, temp_action)\n",
    "            \n",
    "            # TD-target\n",
    "            temp_target = new_reward + self.gamma*q_alternative - current_q\n",
    "            \n",
    "            # Weight update\n",
    "            weight_update = self.alpha * temp_target * self.get_features(self.current_state, action)\n",
    "            weight_update = np.reshape(weight_update, (15, 1))\n",
    "            \n",
    "            temp_weights = self.weights + weight_update\n",
    "            self.weights = temp_weights\n",
    "            \n",
    "            self.current_state = next_state\n",
    "            self.action = temp_action\n",
    "            \n",
    "            self.history.append(self.weights)\n",
    "            self.history_n.append(self.get_norm(self.weights)[0])\n",
    "            \n",
    "        #print(self.weights)\n",
    "        \n",
    "        \n",
    "    def do_iteration(self):\n",
    "        self.history_n.append(self.get_norm(self.weights)[0])\n",
    "        \n",
    "        if self.algorithm == 'q-learning':\n",
    "            self.qlearning_iteration()\n",
    "        elif self.algorithm == 'sarsa':\n",
    "            self.sarsa_iteration()\n",
    "            \n",
    "        return"
   ]
  },
  {
   "cell_type": "code",
   "execution_count": 36,
   "id": "disciplinary-favorite",
   "metadata": {
    "ExecuteTime": {
     "end_time": "2021-11-22T16:57:26.204837Z",
     "start_time": "2021-11-22T16:57:26.158826Z"
    }
   },
   "outputs": [
    {
     "name": "stderr",
     "output_type": "stream",
     "text": [
      "C:\\Users\\FEEL\\AppData\\Local\\Temp/ipykernel_14900/3423115278.py:93: DeprecationWarning: Calling np.sum(generator) is deprecated, and in the future will give a different result. Use np.sum(np.fromiter(generator)) or the python sum builtin instead.\n",
      "  return np.sqrt(np.sum(i**2 for i in vector))\n"
     ]
    }
   ],
   "source": [
    "td_test = TDLearning(algorithm='sarsa')\n",
    "td_test.qlearning_iteration()"
   ]
  },
  {
   "cell_type": "code",
   "execution_count": 37,
   "id": "interested-broadway",
   "metadata": {
    "ExecuteTime": {
     "end_time": "2021-11-22T16:57:27.381726Z",
     "start_time": "2021-11-22T16:57:27.317721Z"
    }
   },
   "outputs": [
    {
     "data": {
      "text/plain": [
       "[<matplotlib.lines.Line2D at 0x1b3f919a9d0>]"
      ]
     },
     "execution_count": 37,
     "metadata": {},
     "output_type": "execute_result"
    },
    {
     "data": {
      "image/png": "[encoded data removed]",
      "text/plain": [
       "<Figure size 432x288 with 1 Axes>"
      ]
     },
     "metadata": {
      "needs_background": "light"
     },
     "output_type": "display_data"
    }
   ],
   "source": [
    "plt.plot(td_test.history_n)"
   ]
  },
  {
   "cell_type": "code",
   "execution_count": 38,
   "id": "solid-detector",
   "metadata": {
    "ExecuteTime": {
     "end_time": "2021-11-22T17:00:07.649844Z",
     "start_time": "2021-11-22T16:57:34.315401Z"
    }
   },
   "outputs": [
    {
     "name": "stderr",
     "output_type": "stream",
     "text": [
      "C:\\Users\\FEEL\\AppData\\Local\\Temp/ipykernel_14900/872377336.py:8: TqdmDeprecationWarning: Please use `tqdm.notebook.trange` instead of `tqdm.tnrange`\n",
      "  for i in tqdm.tnrange(N_RUNS):\n"
     ]
    },
    {
     "data": {
      "application/vnd.jupyter.widget-view+json": {
       "model_id": "49cd0c67bad7457f9e55024488274327",
       "version_major": 2,
       "version_minor": 0
      },
      "text/plain": [
       "  0%|          | 0/2000 [00:00<?, ?it/s]"
      ]
     },
     "metadata": {},
     "output_type": "display_data"
    },
    {
     "name": "stderr",
     "output_type": "stream",
     "text": [
      "C:\\Users\\FEEL\\AppData\\Local\\Temp/ipykernel_14900/3423115278.py:93: DeprecationWarning: Calling np.sum(generator) is deprecated, and in the future will give a different result. Use np.sum(np.fromiter(generator)) or the python sum builtin instead.\n",
      "  return np.sqrt(np.sum(i**2 for i in vector))\n"
     ]
    }
   ],
   "source": [
    "# Do multiple runs of the same algorithm to smooth history values\n",
    "\n",
    "N_RUNS = 2000\n",
    "\n",
    "dict_qlearning = {}\n",
    "dict_sarsa = {}\n",
    "\n",
    "for i in tqdm.tnrange(N_RUNS):\n",
    "    temp_q = TDLearning(algorithm='q-learning', steps=500)\n",
    "    temp_q.do_iteration()\n",
    "    \n",
    "    dict_qlearning['Run {:0004d}'.format(i)] = temp_q\n",
    "    \n",
    "    temp_s = TDLearning(algorithm='sarsa', steps=500)\n",
    "    temp_s.do_iteration()\n",
    "    \n",
    "    dict_sarsa['Run {:0004d}'.format(i)] = temp_s"
   ]
  },
  {
   "cell_type": "code",
   "execution_count": 39,
   "id": "decimal-rwanda",
   "metadata": {
    "ExecuteTime": {
     "end_time": "2021-11-22T17:00:12.881289Z",
     "start_time": "2021-11-22T17:00:12.868642Z"
    }
   },
   "outputs": [],
   "source": [
    "# Average across all the runs\n",
    "\n",
    "norm_qlearning_history = []\n",
    "norm_sarsa_history = []\n",
    "\n",
    "for key in dict_qlearning.keys():\n",
    "    norm_qlearning_history.append(dict_qlearning[key].history_n)\n",
    "    norm_sarsa_history.append(dict_sarsa[key].history_n)"
   ]
  },
  {
   "cell_type": "code",
   "execution_count": 42,
   "id": "understood-queen",
   "metadata": {
    "ExecuteTime": {
     "end_time": "2021-11-22T17:02:04.982568Z",
     "start_time": "2021-11-22T17:02:04.797523Z"
    }
   },
   "outputs": [
    {
     "data": {
      "text/plain": [
       "<matplotlib.legend.Legend at 0x1b414939400>"
      ]
     },
     "execution_count": 42,
     "metadata": {},
     "output_type": "execute_result"
    },
    {
     "data": {
      "image/png": "[encoded data removed]",
      "text/plain": [
       "<Figure size 432x288 with 1 Axes>"
      ]
     },
     "metadata": {
      "needs_background": "light"
     },
     "output_type": "display_data"
    }
   ],
   "source": [
    "# Plot the results\n",
    "\n",
    "plt.plot(np.mean(norm_qlearning_history, axis=0))\n",
    "plt.plot(np.mean(norm_sarsa_history, axis=0))\n",
    "\n",
    "plt.legend(['Q-Learning', 'Sarsa'])"
   ]
  },
  {
   "cell_type": "code",
   "execution_count": null,
   "id": "64836809",
   "metadata": {},
   "outputs": [],
   "source": []
  }
 ],
 "metadata": {
  "kernelspec": {
   "display_name": "Python 3 (ipykernel)",
   "language": "python",
   "name": "python3"
  },
  "language_info": {
   "codemirror_mode": {
    "name": "ipython",
    "version": 3
   },
   "file_extension": ".py",
   "mimetype": "text/x-python",
   "name": "python",
   "nbconvert_exporter": "python",
   "pygments_lexer": "ipython3",
   "version": "3.8.0"
  },
  "varInspector": {
   "cols": {
    "lenName": 16,
    "lenType": 16,
    "lenVar": 40
   },
   "kernels_config": {
    "python": {
     "delete_cmd_postfix": "",
     "delete_cmd_prefix": "del ",
     "library": "var_list.py",
     "varRefreshCmd": "print(var_dic_list())"
    },
    "r": {
     "delete_cmd_postfix": ") ",
     "delete_cmd_prefix": "rm(",
     "library": "var_list.r",
     "varRefreshCmd": "cat(var_dic_list()) "
    }
   },
   "types_to_exclude": [
    "module",
    "function",
    "builtin_function_or_method",
    "instance",
    "_Feature"
   ],
   "window_display": false
  }
 },
 "nbformat": 4,
 "nbformat_minor": 5
}
